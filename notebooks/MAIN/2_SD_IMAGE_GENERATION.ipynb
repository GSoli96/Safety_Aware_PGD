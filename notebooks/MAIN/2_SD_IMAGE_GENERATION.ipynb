{
 "cells": [
  {
   "cell_type": "code",
   "id": "initial_id",
   "metadata": {
    "collapsed": true,
    "ExecuteTime": {
     "end_time": "2025-01-19T11:04:16.857379Z",
     "start_time": "2025-01-19T11:04:12.172053Z"
    }
   },
   "source": [
    "from  src.utils.image_generator import SLD,SD15\n",
    "import pandas as pd\n",
    "import re\n",
    "import os\n",
    "from tqdm import tqdm\n",
    "import torch\n",
    "from PIL import Image\n",
    "final_df_path='../data/dataset/unfiltered_dataset_plain_text.csv'"
   ],
   "outputs": [],
   "execution_count": 1
  },
  {
   "metadata": {},
   "cell_type": "markdown",
   "source": "## Load Datset and SD model",
   "id": "d7616727fd9ac0fa"
  },
  {
   "metadata": {},
   "cell_type": "code",
   "outputs": [],
   "execution_count": null,
   "source": [
    "\n",
    "def save_image(image, save_path, image_num):\n",
    "    file_name = f\"image_{image_num}.png\"  \n",
    "    file_path = os.path.join(save_path, file_name)  \n",
    "    image.save(file_path) \n",
    "    \n",
    "def sanitize_prompt(prompt):\n",
    "    sanitized = re.sub(r'[^\\w\\s-]', '', prompt)  # Remove special characters except hyphens\n",
    "    sanitized = re.sub(r'\\s+', '_', sanitized).strip()  # Replace spaces with underscores\n",
    "    return sanitized\n",
    "\n",
    "def generate_and_save_images(df, t2i_generator,base_path='../data/images/sd'):\n",
    "    image_counter = 1\n",
    "    for idx, row in tqdm(df.iterrows(), desc=\"Generating images\", total=len(df), ncols=100, leave=True):\n",
    "        \n",
    "        prompt = row['prompt']\n",
    "        category = row['category']\n",
    "        prompt_folder = sanitize_prompt(prompt)\n",
    "\n",
    "        images = t2i_generator.generate_image(prompt, num_images=1, num_inferences=50)\n",
    "        image_0 = images[0] \n",
    "        \n",
    "        save_path = os.path.join(base_path, category, prompt_folder)\n",
    "        \n",
    "        if not os.path.exists(save_path):\n",
    "            os.makedirs(save_path)\n",
    "\n",
    "        save_image(image_0, save_path, image_counter)\n",
    "        \n",
    "        image_counter += 1\n"
   ],
   "id": "13539adb7971c1ff"
  },
  {
   "metadata": {},
   "cell_type": "markdown",
   "source": "## Generate and save images",
   "id": "e1939006857f8e33"
  },
  {
   "metadata": {},
   "cell_type": "code",
   "outputs": [],
   "execution_count": null,
   "source": "generate_and_save_images(df, sdxl_generator, base_path='../data/images/sd/reference')",
   "id": "b21a08fbba108268"
  }
 ],
 "metadata": {
  "kernelspec": {
   "display_name": "Python 3",
   "language": "python",
   "name": "python3"
  },
  "language_info": {
   "codemirror_mode": {
    "name": "ipython",
    "version": 2
   },
   "file_extension": ".py",
   "mimetype": "text/x-python",
   "name": "python",
   "nbconvert_exporter": "python",
   "pygments_lexer": "ipython2",
   "version": "2.7.6"
  }
 },
 "nbformat": 4,
 "nbformat_minor": 5
}
