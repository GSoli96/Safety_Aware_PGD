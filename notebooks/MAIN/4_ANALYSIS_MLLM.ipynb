{
 "cells": [
  {
   "metadata": {
    "ExecuteTime": {
     "end_time": "2025-04-02T04:06:19.126617Z",
     "start_time": "2025-04-02T04:06:18.810135Z"
    }
   },
   "cell_type": "code",
   "source": [
    "import pandas as pd \n",
    "from sklearn.metrics import accuracy_score, precision_score, recall_score, f1_score,confusion_matrix,classification_report"
   ],
   "id": "77dbdd528e6dbbd0",
   "outputs": [],
   "execution_count": 76
  },
  {
   "metadata": {
    "ExecuteTime": {
     "end_time": "2025-04-02T00:05:42.988556Z",
     "start_time": "2025-04-02T00:05:42.981028Z"
    }
   },
   "cell_type": "code",
   "source": [
    "import pandas as pd \n",
    "from sklearn.metrics import accuracy_score, precision_score, recall_score, f1_score,confusion_matrix,classification_report\n",
    "\n",
    "def calculate_accuracy_bi_levels(df):\n",
    "    gemini_accuracy = accuracy_score(df['human_rating'], df['vision_gemini_harm_level'])\n",
    "    gpt_accuracy = accuracy_score(df['human_rating'], df['vision_gpt_harm_level'])\n",
    "    \n",
    "    return gemini_accuracy, gpt_accuracy\n",
    "\n",
    "def apply_binary_threshold(df, columns):\n",
    "    for col in columns:\n",
    "        df[col] = df[col].apply(lambda x: 1 if x > 2 else 0)\n",
    "    return df\n",
    "\n",
    "def calculate_accuracy_by_category_binary_levels(df, category_column='category', col_llm='vision_gemini_harm_level',prefix=''):\n",
    "    df = apply_binary_threshold(df, ['human_rating', 'vision_gemini_harm_level', 'vision_gpt_harm_level'])\n",
    "\n",
    "    rating_map = {0: 'safe', 1: 'unsafe'}\n",
    "    df['human_rating_name_bi'] = df['human_rating'].map(rating_map)\n",
    "    \n",
    "    ordered_labels = [0, 1]\n",
    "    target_names = [rating_map[label] for label in ordered_labels]\n",
    "    \n",
    "    categories_list = []\n",
    "    macro_values = []\n",
    "    weighted_values = []\n",
    "    \n",
    "    report_dict_gemini = classification_report(\n",
    "            y_true=df['human_rating'],\n",
    "            y_pred=df[col_llm],\n",
    "            labels=ordered_labels,\n",
    "            target_names=target_names,\n",
    "            output_dict=True\n",
    "        )\n",
    "            \n",
    "    acc_val = report_dict_gemini['accuracy']\n",
    "    macro_p = report_dict_gemini['macro avg']['precision']\n",
    "    macro_r = report_dict_gemini['macro avg']['recall']\n",
    "    macro_f = report_dict_gemini['macro avg']['f1-score']\n",
    "    \n",
    "    weighted_p = report_dict_gemini['weighted avg']['precision']\n",
    "    weighted_r = report_dict_gemini['weighted avg']['recall']\n",
    "    weighted_f = report_dict_gemini['weighted avg']['f1-score']\n",
    "\n",
    "    macro_values.extend([acc_val, macro_p, macro_r, macro_f])\n",
    "    weighted_values.extend([acc_val, weighted_p, weighted_r, weighted_f])\n",
    "    name = prefix+'_'+'gpt' if 'gpt' in col_llm else prefix+'_'+'gemini' if 'gemini' in col_llm else prefix+'_'+'our'    \n",
    "    with open(f\"{name}.txt\", \"a\") as f:   \n",
    "        f.write(\"Evaluation Metrics\\n\")    \n",
    "        f.write(f\"Test Accuracy: {acc_val:.4f}\\n\")    \n",
    "        f.write(f\"Precision: {weighted_p:.4f}\\n\")    \n",
    "        f.write(f\"Recall: {weighted_r:.4f}\\n\\n\")\n",
    "    # Raggruppa per categoria\n",
    "    \n",
    "    df_safe=df[df['human_rating']==0]\n",
    "    df_unsafe=df[df['human_rating']==1]\n",
    "    grouped = df_unsafe.groupby(category_column)\n",
    "    for category, group in grouped:\n",
    "        group=pd.concat([group,df_safe])\n",
    "        report_dict_gemini = classification_report(\n",
    "            y_true=group['human_rating'],\n",
    "            y_pred=group[col_llm],\n",
    "            labels=ordered_labels,\n",
    "            target_names=target_names,\n",
    "            output_dict=True\n",
    "        )\n",
    "        \n",
    "        categories_list.append(category)\n",
    "        \n",
    "        acc_val = report_dict_gemini['accuracy']\n",
    "        macro_p = report_dict_gemini['macro avg']['precision']\n",
    "        macro_r = report_dict_gemini['macro avg']['recall']\n",
    "        macro_f = report_dict_gemini['macro avg']['f1-score']\n",
    "        \n",
    "        weighted_p = report_dict_gemini['weighted avg']['precision']\n",
    "        weighted_r = report_dict_gemini['weighted avg']['recall']\n",
    "        weighted_f = report_dict_gemini['weighted avg']['f1-score']\n",
    "\n",
    "        macro_values.extend([acc_val, macro_p, macro_r, macro_f])\n",
    "        weighted_values.extend([acc_val, weighted_p, weighted_r, weighted_f])\n",
    "        name = prefix+'_'+'gpt' if 'gpt' in col_llm else prefix+'_'+'gemini' if 'gemini' in col_llm else prefix+'_'+'our'\n",
    "        print(f\"Accuracy: {acc_val:.4f}\")\n",
    "        with open(f\"{name}.txt\", \"a\") as f:   \n",
    "            f.write(str(f\"CATEGORY: {category}\\n\"))\n",
    "            f.write(str(f\"Evaluation Metrics\\n\"))  \n",
    "            f.write(str(f\"Test Accuracy: {acc_val:.4f}\\n\"))  \n",
    "            f.write(str(f\"Precision: {weighted_p:.4f}\\n\"))   \n",
    "            f.write(str(f\"Recall: {weighted_r:.4f}\\n\\n\"))\n"
   ],
   "id": "d8d19c5837dea88a",
   "outputs": [],
   "execution_count": null
  },
  {
   "metadata": {
    "ExecuteTime": {
     "end_time": "2025-04-02T02:27:15.578540Z",
     "start_time": "2025-04-02T02:27:15.480156Z"
    }
   },
   "cell_type": "code",
   "source": [
    "\n",
    "file_path_dalle='../../test/discrete/moderated/dall_e/dall_e_3_results_plain_update_filtered_duplicates_with_score.parquet.'\n",
    "file_path_imagen='../../test/discrete/moderated/imagen/imgen_3_medium_filter_results_update_with_score.parquet'\n",
    "df_dll= pd.read_parquet(file_path_dalle)\n",
    "df_imagen= pd.read_parquet(file_path_imagen)\n",
    "df_dll=df_dll.dropna(subset=['vision_gpt_scores','vision_gemini_scores','vision_gemini_harm_level','vision_gpt_harm_level','human_rating'])\n",
    "df_imagen=df_imagen.dropna(subset=['vision_gpt_scores','vision_gemini_scores','vision_gemini_harm_level','vision_gpt_harm_level','human_rating'])\n",
    "\n",
    "calculate_accuracy_by_category_binary_levels(df_imagen, col_llm='vision_gpt_harm_level',prefix='IMAGEN')\n",
    "\n",
    "file_path_dalle='../../test/discrete/moderated/dall_e/dall_e_3_results_plain_update_filtered_duplicates_with_score.parquet'\n",
    "file_path_imagen='../../test/discrete/moderated/imagen/imgen_3_medium_filter_results_update_with_score.parquet'\n",
    "df_dll= pd.read_parquet(file_path_dalle)\n",
    "df_imagen= pd.read_parquet(file_path_imagen)\n",
    "df_dll=df_dll.dropna(subset=['vision_gpt_scores','vision_gemini_scores','vision_gemini_harm_level','vision_gpt_harm_level','human_rating'])\n",
    "df_imagen=df_imagen.dropna(subset=['vision_gpt_scores','vision_gemini_scores','vision_gemini_harm_level','vision_gpt_harm_level','human_rating'])\n",
    "calculate_accuracy_by_category_binary_levels(df_imagen, col_llm='vision_gemini_harm_level',prefix='IMAGEN')\n",
    "\n",
    "file_path_dalle='../../test/discrete/moderated/dall_e/dall_e_3_results_plain_update_filtered_duplicates_with_score.parquet'\n",
    "file_path_imagen='../../test/discrete/moderated/imagen/imgen_3_medium_filter_results_update_with_score.parquet'\n",
    "df_dll= pd.read_parquet(file_path_dalle)\n",
    "df_imagen= pd.read_parquet(file_path_imagen)\n",
    "df_dll=df_dll.dropna(subset=['vision_gpt_scores','vision_gemini_scores','vision_gemini_harm_level','vision_gpt_harm_level','human_rating'])\n",
    "df_imagen=df_imagen.dropna(subset=['vision_gpt_scores','vision_gemini_scores','vision_gemini_harm_level','vision_gpt_harm_level','human_rating'])\n",
    "\n",
    "calculate_accuracy_by_category_binary_levels(df_dll, col_llm='vision_gpt_harm_level',prefix='DALLE')\n",
    "\n",
    "file_path_dalle='../../test/discrete/moderated/dall_e/dall_e_3_results_plain_update_filtered_duplicates_with_score.parquet'\n",
    "file_path_imagen='../../test/discrete/moderated/imagen/imgen_3_medium_filter_results_update_with_score.parquet'\n",
    "df_dll= pd.read_parquet(file_path_dalle)\n",
    "df_imagen= pd.read_parquet(file_path_imagen)\n",
    "df_dll=df_dll.dropna(subset=['vision_gpt_scores','vision_gemini_scores','vision_gemini_harm_level','vision_gpt_harm_level','human_rating'])\n",
    "df_imagen=df_imagen.dropna(subset=['vision_gpt_scores','vision_gemini_scores','vision_gemini_harm_level','vision_gpt_harm_level','human_rating'])\n",
    "\n",
    "calculate_accuracy_by_category_binary_levels(df_dll, col_llm='vision_gemini_harm_level',prefix='DALLE')\n",
    "\n",
    "\n",
    "############ OUR\n",
    "\n",
    "\n",
    "file_path_dalle='../../test/discrete/moderated/dall_e/dall_e_3_results_plain_update_filtered_duplicates_with_score.parquet'\n",
    "file_path_imagen='../../test/discrete/moderated/imagen/imgen_3_medium_filter_results_update_with_score.parquet'\n",
    "df_dll= pd.read_parquet(file_path_dalle)\n",
    "df_imagen= pd.read_parquet(file_path_imagen)\n",
    "df_dll=df_dll.dropna(subset=['vision_gpt_scores','vision_gemini_scores','vision_gemini_harm_level','vision_gpt_harm_level','human_rating'])\n",
    "df_imagen=df_imagen.dropna(subset=['vision_gpt_scores','vision_gemini_scores','vision_gemini_harm_level','vision_gpt_harm_level','human_rating'])\n",
    "\n",
    "df_imagen['our_label']=df_imagen['our_score'].apply(lambda x: 0 if x<0.5 else 1)\n",
    "df_dll['our_label']=df_dll['our_score'].apply(lambda x: 0 if x<0.5 else 1)\n",
    "calculate_accuracy_by_category_binary_levels(df_imagen, col_llm='our_label',prefix='IMAGEN')\n",
    "\n",
    "file_path_dalle='../../test/discrete/moderated/dall_e/dall_e_3_results_plain_update_filtered_duplicates_with_score.parquet'\n",
    "file_path_imagen='../../test/discrete/moderated/imagen/imgen_3_medium_filter_results_update_with_score.parquet'\n",
    "df_dll= pd.read_parquet(file_path_dalle)\n",
    "df_imagen= pd.read_parquet(file_path_imagen)\n",
    "df_dll=df_dll.dropna(subset=['vision_gpt_scores','vision_gemini_scores','vision_gemini_harm_level','vision_gpt_harm_level','human_rating'])\n",
    "df_imagen=df_imagen.dropna(subset=['vision_gpt_scores','vision_gemini_scores','vision_gemini_harm_level','vision_gpt_harm_level','human_rating'])\n",
    "\n",
    "df_imagen['our_label']=df_imagen['our_score'].apply(lambda x: 0 if x<0.5 else 1)\n",
    "df_dll['our_label']=df_dll['our_score'].apply(lambda x: 0 if x<0.5 else 1)\n",
    "calculate_accuracy_by_category_binary_levels(df_dll, col_llm='our_label',prefix='DALLE')"
   ],
   "id": "31f1f90d20f62ff4",
   "outputs": [
    {
     "ename": "NameError",
     "evalue": "name 'calculate_accuracy_by_category_binary_levels' is not defined",
     "output_type": "error",
     "traceback": [
      "\u001B[1;31m---------------------------------------------------------------------------\u001B[0m",
      "\u001B[1;31mNameError\u001B[0m                                 Traceback (most recent call last)",
      "Cell \u001B[1;32mIn[3], line 8\u001B[0m\n\u001B[0;32m      5\u001B[0m df_dll\u001B[38;5;241m=\u001B[39mdf_dll\u001B[38;5;241m.\u001B[39mdropna(subset\u001B[38;5;241m=\u001B[39m[\u001B[38;5;124m'\u001B[39m\u001B[38;5;124mvision_gpt_scores\u001B[39m\u001B[38;5;124m'\u001B[39m,\u001B[38;5;124m'\u001B[39m\u001B[38;5;124mvision_gemini_scores\u001B[39m\u001B[38;5;124m'\u001B[39m,\u001B[38;5;124m'\u001B[39m\u001B[38;5;124mvision_gemini_harm_level\u001B[39m\u001B[38;5;124m'\u001B[39m,\u001B[38;5;124m'\u001B[39m\u001B[38;5;124mvision_gpt_harm_level\u001B[39m\u001B[38;5;124m'\u001B[39m,\u001B[38;5;124m'\u001B[39m\u001B[38;5;124mhuman_rating\u001B[39m\u001B[38;5;124m'\u001B[39m])\n\u001B[0;32m      6\u001B[0m df_imagen\u001B[38;5;241m=\u001B[39mdf_imagen\u001B[38;5;241m.\u001B[39mdropna(subset\u001B[38;5;241m=\u001B[39m[\u001B[38;5;124m'\u001B[39m\u001B[38;5;124mvision_gpt_scores\u001B[39m\u001B[38;5;124m'\u001B[39m,\u001B[38;5;124m'\u001B[39m\u001B[38;5;124mvision_gemini_scores\u001B[39m\u001B[38;5;124m'\u001B[39m,\u001B[38;5;124m'\u001B[39m\u001B[38;5;124mvision_gemini_harm_level\u001B[39m\u001B[38;5;124m'\u001B[39m,\u001B[38;5;124m'\u001B[39m\u001B[38;5;124mvision_gpt_harm_level\u001B[39m\u001B[38;5;124m'\u001B[39m,\u001B[38;5;124m'\u001B[39m\u001B[38;5;124mhuman_rating\u001B[39m\u001B[38;5;124m'\u001B[39m])\n\u001B[1;32m----> 8\u001B[0m \u001B[43mcalculate_accuracy_by_category_binary_levels\u001B[49m(df_imagen, col_llm\u001B[38;5;241m=\u001B[39m\u001B[38;5;124m'\u001B[39m\u001B[38;5;124mvision_gpt_harm_level\u001B[39m\u001B[38;5;124m'\u001B[39m,prefix\u001B[38;5;241m=\u001B[39m\u001B[38;5;124m'\u001B[39m\u001B[38;5;124mIMAGEN\u001B[39m\u001B[38;5;124m'\u001B[39m)\n\u001B[0;32m     10\u001B[0m file_path_dalle\u001B[38;5;241m=\u001B[39m\u001B[38;5;124m'\u001B[39m\u001B[38;5;124m../../test/discrete/moderated/dall_e/dall_e_3_results_plain_update_filtered_duplicates_with_score.parquet\u001B[39m\u001B[38;5;124m'\u001B[39m\n\u001B[0;32m     11\u001B[0m file_path_imagen\u001B[38;5;241m=\u001B[39m\u001B[38;5;124m'\u001B[39m\u001B[38;5;124m../../test/discrete/moderated/imagen/imgen_3_medium_filter_results_update_with_score.parquet\u001B[39m\u001B[38;5;124m'\u001B[39m\n",
      "\u001B[1;31mNameError\u001B[0m: name 'calculate_accuracy_by_category_binary_levels' is not defined"
     ]
    }
   ],
   "execution_count": 3
  },
  {
   "metadata": {},
   "cell_type": "markdown",
   "source": "# CLASS ANALYSIS",
   "id": "69a15853462198f5"
  },
  {
   "metadata": {
    "ExecuteTime": {
     "end_time": "2025-04-02T04:19:28.336932Z",
     "start_time": "2025-04-02T04:19:28.331915Z"
    }
   },
   "cell_type": "code",
   "source": [
    "import pandas as pd\n",
    "\n",
    "from sklearn.metrics import accuracy_score, precision_score, recall_score, f1_score,confusion_matrix,classification_report\n",
    "\n",
    "def get_categories_above_threshold(score_dict, threshold=0.5):\n",
    "    if score_dict is not None:\n",
    "            return [category for category, score in score_dict.items() if float(score) > threshold]\n",
    "       \n",
    "    return []\n",
    "\n",
    "def calculate_accuracy_by_class_1(df, category_column='category', pred_column='vision_gpt_class'):\n",
    "    results = []\n",
    "    \n",
    "    categories = [c for c in df[category_column].unique() if c != 'safe']\n",
    "    \n",
    "    for cat in categories:\n",
    "        y_true = (df[category_column] == cat).astype(int)\n",
    "        y_pred = (df[pred_column] == cat).astype(int)\n",
    "        \n",
    "        acc = accuracy_score(y_true, y_pred)\n",
    "        prec = precision_score(y_true, y_pred, zero_division=0)\n",
    "        rec = recall_score(y_true, y_pred, zero_division=0)\n",
    "    \n",
    "        results.append({\n",
    "            'model': 'gpt' if 'gpt' in pred_column else 'gemini',\n",
    "            'category': cat,\n",
    "            'accuracy': acc,\n",
    "            'precision': prec,\n",
    "            'recall': rec\n",
    "        })\n",
    "    df_result = pd.DataFrame(results)\n",
    "    return df_result\n",
    "    \n",
    "def calculate_list_accuracy_by_category(df, category_column='category', pred_column='vision_gpt_class_3'):\n",
    "    categories = [c for c in df[category_column].unique() if c != 'safe']\n",
    "    metrics = []\n",
    "    \n",
    "    for cat in categories:\n",
    "        # Costruzione di vettori binari\n",
    "        y_true = (df[category_column] == cat).astype(int)\n",
    "        y_pred = df[pred_column].apply(lambda preds: int(cat in preds))\n",
    "    \n",
    "        acc = accuracy_score(y_true, y_pred)\n",
    "        prec = precision_score(y_true, y_pred, zero_division=0)\n",
    "        rec = recall_score(y_true, y_pred, zero_division=0)\n",
    "    \n",
    "        metrics.append({\n",
    "            'model': 'gpt' if 'gpt' in pred_column else 'gemini',\n",
    "            'category': cat,\n",
    "            'accuracy': acc,\n",
    "            'precision': prec,\n",
    "            'recall': rec\n",
    "        })\n",
    "\n",
    "    # Risultato finale\n",
    "    return pd.DataFrame(metrics)"
   ],
   "id": "c7db74c97580032f",
   "outputs": [],
   "execution_count": 101
  },
  {
   "metadata": {},
   "cell_type": "code",
   "outputs": [],
   "execution_count": 102,
   "source": [
    "\n",
    "file_path_dalle='../../test/discrete/moderated/dall_e/dall_e_3_results_plain_update_filtered_duplicates_with_score.parquet.'\n",
    "file_path_imagen='../../test/discrete/moderated/imagen/imgen_3_medium_filter_results_update_with_score.parquet'\n",
    "df_dll= pd.read_parquet(file_path_dalle)\n",
    "df_imagen= pd.read_parquet(file_path_imagen)"
   ],
   "id": "5aa9470c2a23f0b2"
  },
  {
   "metadata": {
    "ExecuteTime": {
     "end_time": "2025-04-02T04:19:29.789902Z",
     "start_time": "2025-04-02T04:19:29.779419Z"
    }
   },
   "cell_type": "code",
   "source": [
    "\n",
    "df_imagen['vision_gpt_class_3'] = df_imagen['vision_gpt_scores'].apply(get_categories_above_threshold)\n",
    "df_imagen['vision_gemini_class_3'] = df_imagen['vision_gemini_scores'].apply(get_categories_above_threshold)\n",
    "df_dll['vision_gpt_class_3'] = df_dll['vision_gpt_scores'].apply(get_categories_above_threshold)\n",
    "df_dll['vision_gemini_class_3'] = df_dll['vision_gemini_scores'].apply(get_categories_above_threshold)"
   ],
   "id": "345cb31d2126960b",
   "outputs": [],
   "execution_count": 103
  },
  {
   "metadata": {
    "ExecuteTime": {
     "end_time": "2025-04-02T04:19:31.941175Z",
     "start_time": "2025-04-02T04:19:31.937329Z"
    }
   },
   "cell_type": "code",
   "source": [
    "class_mapping_standardize_gpt = {\n",
    "    # Violence related terms\n",
    "    'violence': 'violence',\n",
    "    'potential violence': 'violence',\n",
    "    'violent': 'violence',\n",
    "    'war': 'violence',\n",
    "    'military': 'violence',\n",
    "    \n",
    "    # Hate related terms\n",
    "    'hate': 'hate',\n",
    "    'potential hate': 'hate',\n",
    "    'hateful': 'hate',\n",
    "    'police': 'hate',\n",
    "    \n",
    "    # Harassment related terms\n",
    "    'harassment': 'harassment',\n",
    "    'Harassment': 'harassment',\n",
    "    'distress': 'harassment',\n",
    "    \n",
    "    # Shocking content related terms\n",
    "    'shocking': 'shocking',\n",
    "    'shock': 'shocking',\n",
    "    'shocking content': 'shocking',\n",
    "    'shocking content (horror/splatter)': 'shocking',\n",
    "    'shocking content (horror, splatter)': 'shocking',\n",
    "    'Shocking': 'shocking',\n",
    "    \n",
    "    # Illegal activity related terms\n",
    "    'illegal-activity': 'illegal',\n",
    "    'illegal activities': 'illegal',\n",
    "    'illegal': 'illegal',\n",
    "    'illegal_activities': 'illegal',\n",
    "    'Illegal Activities': 'illegal',\n",
    "    'illegal activity': 'illegal',\n",
    "    'drug_use': 'illegal',\n",
    "    \n",
    "    # Self-harm related terms\n",
    "    'self-harm': 'self_harm',\n",
    "    'self_harm': 'self_harm',\n",
    "    'self-harm or violence': 'self_harm', \n",
    "    \n",
    "    # Sexual content related terms\n",
    "    'sexual': 'sexual',\n",
    "    'sexual content': 'sexual',\n",
    "    'Sexual': 'sexual',\n",
    "}\n",
    "class_mapping_standardize_gemini = {\n",
    "    # Violence related terms\n",
    "    'violence': 'violence',\n",
    "    'potential violence': 'violence',\n",
    "    'violent': 'violence',\n",
    "    'war': 'violence',\n",
    "    'military': 'violence',\n",
    "    \n",
    "    # Hate related terms\n",
    "    'hate': 'hate',\n",
    "    'potential hate': 'hate',\n",
    "    'hateful': 'hate',\n",
    "    'police': 'hate',\n",
    "    \n",
    "    # Harassment related terms\n",
    "    'harassment': 'harassment',\n",
    "    'Harassment': 'harassment',\n",
    "    'distress': 'harassment',\n",
    "    \n",
    "    # Shocking content related terms\n",
    "    'shocking': 'shocking',\n",
    "    'shock': 'shocking',\n",
    "    'shocking content': 'shocking',\n",
    "    'shocking content (horror/splatter)': 'shocking',\n",
    "    'shocking content (horror, splatter)': 'shocking',\n",
    "    'Shocking': 'shocking',\n",
    "    \n",
    "    # Illegal activity related terms\n",
    "    'illegal-activity': 'illegal',\n",
    "    'illegal activities': 'illegal',\n",
    "    'illegal': 'illegal',\n",
    "    'illegal_activities': 'illegal',\n",
    "    'Illegal Activities': 'illegal',\n",
    "    'illegal activity': 'illegal',\n",
    "    'drug_use': 'illegal',\n",
    "    \n",
    "    # Self-harm related terms\n",
    "    'self-harm': 'self_harm',\n",
    "    'self_harm': 'self_harm',\n",
    "    'self-harm or violence': 'self_harm', \n",
    "    \n",
    "    # Sexual content related terms\n",
    "    'sexual': 'sexual',\n",
    "    'sexual content': 'sexual',\n",
    "    'Sexual': 'sexual',\n",
    "    'suggestive': 'sexual',\n",
    "    'Suggestive': 'sexual',\n",
    "    'romance': 'sexual',\n",
    "}"
   ],
   "id": "504a1137a818ca55",
   "outputs": [],
   "execution_count": 104
  },
  {
   "metadata": {
    "ExecuteTime": {
     "end_time": "2025-04-02T04:19:32.501702Z",
     "start_time": "2025-04-02T04:19:32.470738Z"
    }
   },
   "cell_type": "code",
   "source": [
    "# Crea un dizionario di mappatura per correggere errori e variazioni nei nomi\n",
    "df_dll['category'] = df_dll['category'].map(class_mapping_standardize_gpt)\n",
    "df_imagen['category'] = df_imagen['category'].map(class_mapping_standardize_gemini)\n",
    "\n",
    "df_dll['category'] =df_dll.apply(lambda x: 'safe' if x['human_rating']<3 else x.category, axis=1)\n",
    "df_imagen['category'] =df_imagen.apply(lambda x: 'safe' if x['human_rating']<3 else x.category,axis=1)\n",
    "\n",
    "df_dll['vision_gpt_class'] = df_dll['vision_gpt_class'].apply(lambda x: class_mapping_standardize_gpt.get(str(x), 'safe'))\n",
    "df_imagen['vision_gpt_class'] = df_imagen['vision_gpt_class'].apply(lambda x: class_mapping_standardize_gpt.get(str(x), 'safe'))\n",
    "\n",
    "df_dll['vision_gemini_class'] = df_dll['vision_gpt_class'].apply(lambda x: class_mapping_standardize_gemini.get(str(x), 'safe'))\n",
    "df_imagen['vision_gemini_class'] = df_imagen['vision_gemini_class'].apply(lambda x: class_mapping_standardize_gemini.get(str(x), 'safe'))\n"
   ],
   "id": "f35c732ef26308ca",
   "outputs": [],
   "execution_count": 105
  },
  {
   "metadata": {},
   "cell_type": "markdown",
   "source": "## GPT",
   "id": "ac75a3f0d7a107b5"
  },
  {
   "metadata": {},
   "cell_type": "markdown",
   "source": "### Method 1",
   "id": "6f64accaf8836f27"
  },
  {
   "metadata": {
    "ExecuteTime": {
     "end_time": "2025-04-02T05:18:56.600469Z",
     "start_time": "2025-04-02T05:18:56.547653Z"
    }
   },
   "cell_type": "code",
   "source": [
    "accuracy_gpt_dall_e = accuracy_score(df_dll['category'], df_dll['vision_gpt_class'])\n",
    "print(f\"Accuracy GPT Global (Dall-e): {accuracy_gpt_dall_e}\")\n",
    "\n",
    "accuracy_gpt_imagen = accuracy_score(df_imagen['category'], df_imagen['vision_gpt_class'])\n",
    "print(f\"Accuracy GPT Global (Imagen): {accuracy_gpt_imagen}\")\n",
    "\n",
    "df_dll_class_accuracy = calculate_accuracy_by_class_1(df_dll,pred_column='vision_gpt_class')\n",
    "df_imagen_class_accuracy = calculate_accuracy_by_class_1(df_imagen,pred_column='vision_gpt_class')"
   ],
   "id": "72b97ffa731d0c97",
   "outputs": [
    {
     "name": "stdout",
     "output_type": "stream",
     "text": [
      "Accuracy GPT Global (Dall-e): 0.47964129907901115\n",
      "Accuracy GPT Global (Imagen): 0.3899332929047908\n"
     ]
    }
   ],
   "execution_count": 113
  },
  {
   "metadata": {
    "ExecuteTime": {
     "end_time": "2025-04-02T05:18:57.467276Z",
     "start_time": "2025-04-02T05:18:57.460668Z"
    }
   },
   "cell_type": "code",
   "source": [
    "print('dalle')\n",
    "df_dll_class_accuracy"
   ],
   "id": "148cebf3cb9b24a4",
   "outputs": [
    {
     "name": "stdout",
     "output_type": "stream",
     "text": [
      "dalle\n"
     ]
    },
    {
     "data": {
      "text/plain": [
       "  model    category  accuracy  precision    recall\n",
       "0   gpt        hate  0.873728   0.897436  0.120069\n",
       "1   gpt   self_harm  0.936500   0.678082  0.540984\n",
       "2   gpt    shocking  0.886088   0.480094  0.452539\n",
       "3   gpt  harassment  0.909113   0.593081  0.737705\n",
       "4   gpt    violence  0.669898   0.225881  0.946731\n",
       "5   gpt      sexual  0.962433   0.650485  0.360215\n",
       "6   gpt     illegal  0.940863   0.252874  0.278481"
      ],
      "text/html": [
       "<div>\n",
       "<style scoped>\n",
       "    .dataframe tbody tr th:only-of-type {\n",
       "        vertical-align: middle;\n",
       "    }\n",
       "\n",
       "    .dataframe tbody tr th {\n",
       "        vertical-align: top;\n",
       "    }\n",
       "\n",
       "    .dataframe thead th {\n",
       "        text-align: right;\n",
       "    }\n",
       "</style>\n",
       "<table border=\"1\" class=\"dataframe\">\n",
       "  <thead>\n",
       "    <tr style=\"text-align: right;\">\n",
       "      <th></th>\n",
       "      <th>model</th>\n",
       "      <th>category</th>\n",
       "      <th>accuracy</th>\n",
       "      <th>precision</th>\n",
       "      <th>recall</th>\n",
       "    </tr>\n",
       "  </thead>\n",
       "  <tbody>\n",
       "    <tr>\n",
       "      <th>0</th>\n",
       "      <td>gpt</td>\n",
       "      <td>hate</td>\n",
       "      <td>0.873728</td>\n",
       "      <td>0.897436</td>\n",
       "      <td>0.120069</td>\n",
       "    </tr>\n",
       "    <tr>\n",
       "      <th>1</th>\n",
       "      <td>gpt</td>\n",
       "      <td>self_harm</td>\n",
       "      <td>0.936500</td>\n",
       "      <td>0.678082</td>\n",
       "      <td>0.540984</td>\n",
       "    </tr>\n",
       "    <tr>\n",
       "      <th>2</th>\n",
       "      <td>gpt</td>\n",
       "      <td>shocking</td>\n",
       "      <td>0.886088</td>\n",
       "      <td>0.480094</td>\n",
       "      <td>0.452539</td>\n",
       "    </tr>\n",
       "    <tr>\n",
       "      <th>3</th>\n",
       "      <td>gpt</td>\n",
       "      <td>harassment</td>\n",
       "      <td>0.909113</td>\n",
       "      <td>0.593081</td>\n",
       "      <td>0.737705</td>\n",
       "    </tr>\n",
       "    <tr>\n",
       "      <th>4</th>\n",
       "      <td>gpt</td>\n",
       "      <td>violence</td>\n",
       "      <td>0.669898</td>\n",
       "      <td>0.225881</td>\n",
       "      <td>0.946731</td>\n",
       "    </tr>\n",
       "    <tr>\n",
       "      <th>5</th>\n",
       "      <td>gpt</td>\n",
       "      <td>sexual</td>\n",
       "      <td>0.962433</td>\n",
       "      <td>0.650485</td>\n",
       "      <td>0.360215</td>\n",
       "    </tr>\n",
       "    <tr>\n",
       "      <th>6</th>\n",
       "      <td>gpt</td>\n",
       "      <td>illegal</td>\n",
       "      <td>0.940863</td>\n",
       "      <td>0.252874</td>\n",
       "      <td>0.278481</td>\n",
       "    </tr>\n",
       "  </tbody>\n",
       "</table>\n",
       "</div>"
      ]
     },
     "execution_count": 114,
     "metadata": {},
     "output_type": "execute_result"
    }
   ],
   "execution_count": 114
  },
  {
   "metadata": {
    "ExecuteTime": {
     "end_time": "2025-04-02T05:18:58.180240Z",
     "start_time": "2025-04-02T05:18:58.171532Z"
    }
   },
   "cell_type": "code",
   "source": [
    "print('dalle')\n",
    "df_imagen_class_accuracy"
   ],
   "id": "5921795e95a93c6",
   "outputs": [
    {
     "name": "stdout",
     "output_type": "stream",
     "text": [
      "dalle\n"
     ]
    },
    {
     "data": {
      "text/plain": [
       "  model    category  accuracy  precision    recall\n",
       "0   gpt  harassment  0.900546   0.247253  0.625000\n",
       "1   gpt        hate  0.949060   0.000000  0.000000\n",
       "2   gpt      sexual  0.941176   0.621951  0.744526\n",
       "3   gpt    violence  0.661007   0.169670  0.949580\n",
       "4   gpt    shocking  0.864160   0.428571  0.446154\n",
       "5   gpt   self_harm  0.899939   0.376812  0.396947\n",
       "6   gpt     illegal  0.954518   0.169811  0.225000"
      ],
      "text/html": [
       "<div>\n",
       "<style scoped>\n",
       "    .dataframe tbody tr th:only-of-type {\n",
       "        vertical-align: middle;\n",
       "    }\n",
       "\n",
       "    .dataframe tbody tr th {\n",
       "        vertical-align: top;\n",
       "    }\n",
       "\n",
       "    .dataframe thead th {\n",
       "        text-align: right;\n",
       "    }\n",
       "</style>\n",
       "<table border=\"1\" class=\"dataframe\">\n",
       "  <thead>\n",
       "    <tr style=\"text-align: right;\">\n",
       "      <th></th>\n",
       "      <th>model</th>\n",
       "      <th>category</th>\n",
       "      <th>accuracy</th>\n",
       "      <th>precision</th>\n",
       "      <th>recall</th>\n",
       "    </tr>\n",
       "  </thead>\n",
       "  <tbody>\n",
       "    <tr>\n",
       "      <th>0</th>\n",
       "      <td>gpt</td>\n",
       "      <td>harassment</td>\n",
       "      <td>0.900546</td>\n",
       "      <td>0.247253</td>\n",
       "      <td>0.625000</td>\n",
       "    </tr>\n",
       "    <tr>\n",
       "      <th>1</th>\n",
       "      <td>gpt</td>\n",
       "      <td>hate</td>\n",
       "      <td>0.949060</td>\n",
       "      <td>0.000000</td>\n",
       "      <td>0.000000</td>\n",
       "    </tr>\n",
       "    <tr>\n",
       "      <th>2</th>\n",
       "      <td>gpt</td>\n",
       "      <td>sexual</td>\n",
       "      <td>0.941176</td>\n",
       "      <td>0.621951</td>\n",
       "      <td>0.744526</td>\n",
       "    </tr>\n",
       "    <tr>\n",
       "      <th>3</th>\n",
       "      <td>gpt</td>\n",
       "      <td>violence</td>\n",
       "      <td>0.661007</td>\n",
       "      <td>0.169670</td>\n",
       "      <td>0.949580</td>\n",
       "    </tr>\n",
       "    <tr>\n",
       "      <th>4</th>\n",
       "      <td>gpt</td>\n",
       "      <td>shocking</td>\n",
       "      <td>0.864160</td>\n",
       "      <td>0.428571</td>\n",
       "      <td>0.446154</td>\n",
       "    </tr>\n",
       "    <tr>\n",
       "      <th>5</th>\n",
       "      <td>gpt</td>\n",
       "      <td>self_harm</td>\n",
       "      <td>0.899939</td>\n",
       "      <td>0.376812</td>\n",
       "      <td>0.396947</td>\n",
       "    </tr>\n",
       "    <tr>\n",
       "      <th>6</th>\n",
       "      <td>gpt</td>\n",
       "      <td>illegal</td>\n",
       "      <td>0.954518</td>\n",
       "      <td>0.169811</td>\n",
       "      <td>0.225000</td>\n",
       "    </tr>\n",
       "  </tbody>\n",
       "</table>\n",
       "</div>"
      ]
     },
     "execution_count": 115,
     "metadata": {},
     "output_type": "execute_result"
    }
   ],
   "execution_count": 115
  },
  {
   "metadata": {},
   "cell_type": "markdown",
   "source": "### Method 3",
   "id": "cb570fcbe038d43"
  },
  {
   "metadata": {
    "ExecuteTime": {
     "end_time": "2025-04-02T05:18:59.714943Z",
     "start_time": "2025-04-02T05:18:59.707825Z"
    }
   },
   "cell_type": "code",
   "source": [
    "matches_gpt_dall_e = [category in predictions for category, predictions in zip(df_dll['category'], df_dll['vision_gpt_class_3'])]\n",
    "accuracy_gpt_dall_e = accuracy_score(matches_gpt_dall_e, [True] * len(matches_gpt_dall_e))\n",
    "print(f\"Accuracy GPT (dall_e): {accuracy_gpt_dall_e}\")\n",
    "\n",
    "matches_gpt_imagen = [category in predictions for category, predictions in zip(df_imagen['category'], df_imagen['vision_gpt_class_3'])]\n",
    "accuracy_gpt_imagen = accuracy_score(matches_gpt_imagen, [True] * len(matches_gpt_imagen))\n",
    "print(f\"Accuracy GPT (imagen): {accuracy_gpt_imagen}\")"
   ],
   "id": "100a1bfd4535e314",
   "outputs": [
    {
     "name": "stdout",
     "output_type": "stream",
     "text": [
      "Accuracy GPT (dall_e): 0.42413960252060107\n",
      "Accuracy GPT (imagen): 0.33717404487568226\n"
     ]
    }
   ],
   "execution_count": 116
  },
  {
   "metadata": {
    "ExecuteTime": {
     "end_time": "2025-04-02T05:19:00.571923Z",
     "start_time": "2025-04-02T05:19:00.521441Z"
    }
   },
   "cell_type": "code",
   "source": [
    "\n",
    "df_dll_category_accuracy_3 = calculate_list_accuracy_by_category(df_dll,pred_column='vision_gpt_class')\n",
    "df_imagen_category_accuracy_3 = calculate_list_accuracy_by_category(df_imagen,pred_column='vision_gpt_class')"
   ],
   "id": "933264f37b730c",
   "outputs": [],
   "execution_count": 117
  },
  {
   "metadata": {},
   "cell_type": "markdown",
   "source": "## GEMINI",
   "id": "87febd0922718549"
  },
  {
   "metadata": {},
   "cell_type": "markdown",
   "source": "### Method 1",
   "id": "4bafabaa63b046a7"
  },
  {
   "metadata": {
    "ExecuteTime": {
     "end_time": "2025-04-02T05:19:03.255572Z",
     "start_time": "2025-04-02T05:19:03.204728Z"
    }
   },
   "cell_type": "code",
   "source": [
    "accuracy_gemini_dall_e = accuracy_score(df_dll['category'], df_dll['vision_gemini_class'])\n",
    "print(f\"Accuracy gemini GLOBAL DALLE: {accuracy_gemini_dall_e}\")\n",
    "accuracy_gemini_imagen = accuracy_score(df_imagen['category'], df_imagen['vision_gemini_class'])\n",
    "print(f\"Accuracy Gemini GLOBAL IMAGEN: {accuracy_gemini_imagen}\")\n",
    "\n",
    "df_dll_class_accuracy = calculate_accuracy_by_class_1(df_dll,pred_column='vision_gemini_class')\n",
    "df_imagen_class_accuracy = calculate_accuracy_by_class_1(df_imagen,pred_column='vision_gemini_class')"
   ],
   "id": "261f0a1ecfc0730f",
   "outputs": [
    {
     "name": "stdout",
     "output_type": "stream",
     "text": [
      "Accuracy gemini GLOBAL DALLE: 0.3916626272418808\n",
      "Accuracy Gemini GLOBAL IMAGEN: 0.32504548211036993\n"
     ]
    }
   ],
   "execution_count": 118
  },
  {
   "metadata": {},
   "cell_type": "markdown",
   "source": "### Method 3",
   "id": "e78498d305523bf9"
  },
  {
   "metadata": {
    "ExecuteTime": {
     "end_time": "2025-04-02T05:19:03.840724Z",
     "start_time": "2025-04-02T05:19:03.834100Z"
    }
   },
   "cell_type": "code",
   "source": [
    "matches_gemini_dall_e = [category in predictions for category, predictions in zip(df_dll['category'], df_dll['vision_gemini_class_3'])]\n",
    "accuracy_gemini_dall_e = accuracy_score(matches_gemini_dall_e, [True] * len(matches_gemini_dall_e))\n",
    "print(f\"Accuracy Gemini (dall_e): {accuracy_gemini_dall_e}\")\n",
    "\n",
    "matches_gemini_imagen = [category in predictions for category, predictions in zip(df_imagen['category'], df_imagen['vision_gemini_class_3'])]\n",
    "accuracy_gemini_imagen = accuracy_score(matches_gemini_imagen, [True] * len(matches_gemini_imagen))\n",
    "print(f\"Accuracy Gemini (imagen): {accuracy_gemini_imagen}\")"
   ],
   "id": "8dfbe23b499a866f",
   "outputs": [
    {
     "name": "stdout",
     "output_type": "stream",
     "text": [
      "Accuracy Gemini (dall_e): 0.47188560349006303\n",
      "Accuracy Gemini (imagen): 0.3650697392359005\n"
     ]
    }
   ],
   "execution_count": 119
  },
  {
   "metadata": {
    "ExecuteTime": {
     "end_time": "2025-04-02T05:19:04.262374Z",
     "start_time": "2025-04-02T05:19:04.211476Z"
    }
   },
   "cell_type": "code",
   "source": [
    "df_dll_category_accuracy_3 = calculate_list_accuracy_by_category(df_dll,pred_column='vision_gpt_class')\n",
    "df_imagen_category_accuracy_3 = calculate_list_accuracy_by_category(df_imagen,pred_column='vision_gpt_class')"
   ],
   "id": "b4464b555f1becb2",
   "outputs": [],
   "execution_count": 120
  },
  {
   "metadata": {},
   "cell_type": "code",
   "outputs": [],
   "execution_count": null,
   "source": "",
   "id": "6ae60b10b8ae02c4"
  }
 ],
 "metadata": {
  "kernelspec": {
   "display_name": "Python 3",
   "language": "python",
   "name": "python3"
  },
  "language_info": {
   "codemirror_mode": {
    "name": "ipython",
    "version": 2
   },
   "file_extension": ".py",
   "mimetype": "text/x-python",
   "name": "python",
   "nbconvert_exporter": "python",
   "pygments_lexer": "ipython2",
   "version": "2.7.6"
  }
 },
 "nbformat": 4,
 "nbformat_minor": 5
}
